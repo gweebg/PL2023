{
 "nbformat": 4,
 "nbformat_minor": 0,
 "metadata": {
  "colab": {
   "provenance": []
  },
  "kernelspec": {
   "name": "python3",
   "display_name": "Python 3"
  },
  "language_info": {
   "name": "python"
  }
 },
 "cells": [
  {
   "cell_type": "markdown",
   "source": [],
   "metadata": {
    "collapsed": false
   }
  },
  {
   "cell_type": "markdown",
   "source": [
    "TPC2: Somador on/off\n",
    "(publicado em 2023.02.21)\n",
    "\n",
    "Crie um programa em Python que tenha o seguinte comportamento:\n",
    "\n",
    "Pretende-se um programa que some todas as sequências de dígitos que encontre num texto;\n",
    "Prepare o programa para ler o texto do canal de entrada: stdin;\n",
    "Sempre que encontrar a string “Off” em qualquer combinação de maiúsculas e minúsculas, esse comportamento é desligado;\n",
    "Sempre que encontrar a string “On” em qualquer combinação de maiúsculas e minúsculas, esse comportamento é novamente ligado;\n",
    "Sempre que encontrar o caráter “=”, o resultado da soma é colocado na saída."
   ],
   "metadata": {
    "collapsed": false
   }
  }
 ]
}
