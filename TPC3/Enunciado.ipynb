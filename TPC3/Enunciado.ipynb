{
 "nbformat": 4,
 "nbformat_minor": 0,
 "metadata": {
  "colab": {
   "provenance": []
  },
  "kernelspec": {
   "name": "python3",
   "display_name": "Python 3"
  },
  "language_info": {
   "name": "python"
  }
 },
 "cells": [
  {
   "cell_type": "markdown",
   "source": [],
   "metadata": {
    "collapsed": false
   }
  },
  {
   "cell_type": "markdown",
   "source": [
    "TPC3: Processador de Pessoas listadas nos Róis de Confessados\n",
    "(publicado em 2023.02.28)\n",
    "\n",
    "Construa agora um ou vários programas Python para processar o texto 'processos.txt' (procurar o ficheiro no Bb) com o intuito de calcular frequências de alguns elementos (a ideia é utilizar arrays associativos, dicionários em Python, para o efeito) conforme solicitado a seguir:\n",
    "\n",
    "a) Calcula a frequência de processos por ano (primeiro elemento da data);\n",
    "\n",
    "b) Calcula a frequência de nomes próprios (o primeiro em cada nome) e apelidos (o ultimo em cada nome) por séculos e apresenta os 5 mais usados;\n",
    "\n",
    "c) Calcula a frequência dos vários tipos de relação: irmão, sobrinho, etc.;\n",
    "\n",
    "d) Converta os 20 primeiros registos num novo ficheiro de output mas em formato Json."
   ],
   "metadata": {
    "collapsed": false
   }
  }
 ]
}
